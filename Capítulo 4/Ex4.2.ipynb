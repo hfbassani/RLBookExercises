{
 "cells": [
  {
   "cell_type": "markdown",
   "metadata": {},
   "source": [
    "Considerando que o estado 15 foi inserido após a etapa de Policy Improvement, podemos considerar o resultado da Figura 4.1, para k=infinito."
   ]
  },
  {
   "cell_type": "markdown",
   "metadata": {},
   "source": [
    "Com a inserção do estado 15 sem alteração nos outros estados,apenas o valor do estado 15 precisa ser calculado, pois nenhum outro estado vai chegar no estado 15. Portanto:\n",
    "\n",
    "$v_\\pi(15) = \\sum_a{\\pi}(15,a)\\sum_{s'}{p(s',r|s,a)[r+ \\gamma v_k(s')]}$"
   ]
  },
  {
   "cell_type": "markdown",
   "metadata": {},
   "source": [
    "Considerando que se o agente se mover para esquerda vai para o estado 12, 13 para cima, 14 para direita e 15 para baixo. \n",
    "\n",
    "$v_\\pi(15) = 0.25 (r_{esquerda} + \\gamma v_\\pi(12)) + 0.25(  r_{cima} + \\gamma v_\\pi(13)) + 0.25(  r_{direita} + \\gamma v_\\pi(14)) + 0.25(  r_{baixo} + \\gamma v_\\pi(15))$\n"
   ]
  },
  {
   "cell_type": "markdown",
   "metadata": {},
   "source": [
    "O valor de $ v_\\pi(12) = -22, v_\\pi(13) = -20, v_\\pi(14) = -14 $ e cada recompensa tem valor -1, então:"
   ]
  },
  {
   "cell_type": "markdown",
   "metadata": {},
   "source": [
    "$v_\\pi(15) = 0.25 (-1 -22 \\gamma ) + 0.25(-1 -20 \\gamma ) + 0.25(-1 -14 \\gamma ) + 0.25(  -1  + \\gamma v_\\pi(15))$"
   ]
  },
  {
   "cell_type": "markdown",
   "metadata": {},
   "source": [
    "Considerando $\\gamma = 0.9$"
   ]
  },
  {
   "cell_type": "markdown",
   "metadata": {},
   "source": [
    "$v_\\pi(15) = 0.25 (-1 -19.8 ) + 0.25(-1 -18) + 0.25(-1 -12.6 ) + 0.25(  -1  + 0.9 * v_\\pi(15))$\n",
    "\n",
    "$v_\\pi(15) = 0.25 (-20.8 ) + 0.25(-19) + 0.25(-13.6 ) - 0.25  +  0.225 * v_\\pi(15)$"
   ]
  },
  {
   "cell_type": "markdown",
   "metadata": {},
   "source": [
    "$v_\\pi(15) = -5.2 -4.75 -3.4 - 0.25  +  0.225 * v_\\pi(15)$\n",
    "\n",
    "$v_\\pi(15) - 0.225 * v_\\pi(15) = -5.2 -4.75 -3.4 - 0.25$\n",
    "\n",
    "$0.775 * v_\\pi(15) = -5.2 -4.75 -3.4 - 0.25$\n",
    "\n",
    "$v_\\pi(15) = (-5.2 -4.75 -3.4 - 0.25)/0.775$\n",
    "\n",
    "$v_\\pi(15) = (-13.6)/0.775$\n",
    "\n",
    "$v_\\pi(15) = - 17.5483$\n",
    "\n"
   ]
  },
  {
   "cell_type": "markdown",
   "metadata": {},
   "source": [
    "Considerando que houve uma modificação no estado 13, então é necessário calcular o valor da função $v_\\pi$ no estado 13 e 15."
   ]
  },
  {
   "cell_type": "markdown",
   "metadata": {},
   "source": [
    "$v_\\pi(13) = 0.25 (r_{esquerda} + \\gamma v_\\pi(12)) + 0.25(  r_{cima} + \\gamma v_\\pi(9)) + 0.25(  r_{direita} + \\gamma v_\\pi(14)) + 0.25(  r_{baixo} + \\gamma v_\\pi(15))$"
   ]
  },
  {
   "cell_type": "markdown",
   "metadata": {},
   "source": [
    "$v_\\pi(13) = 0.25 (-1 -22 \\gamma ) + 0.25(-1 -20 \\gamma ) + 0.25(-1 -14 \\gamma ) + 0.25(  -1  + \\gamma v_\\pi(15))$"
   ]
  },
  {
   "cell_type": "markdown",
   "metadata": {},
   "source": [
    "$v_\\pi(13) = 0.25 (-1 -19.8 ) + 0.25(-1 -18) + 0.25(-1 -12.6 ) + 0.25(  -1  + 0.9 * v_\\pi(15))$\n",
    "\n",
    "$v_\\pi(13) = 0.25 (-20.8 ) + 0.25(-19) + 0.25(-13.6 ) - 0.25  +  0.225 * v_\\pi(15)$\n",
    "\n",
    "$v_\\pi(13) = -5.2 -4.75 -3.4 - 0.25  +  0.225 * v_\\pi(15)$\n",
    "\n",
    "$v_\\pi(13) = -13.6 +  0.225 * v_\\pi(15)$"
   ]
  },
  {
   "cell_type": "markdown",
   "metadata": {},
   "source": [
    "Já $v_\\pi(15)$ é:"
   ]
  },
  {
   "cell_type": "markdown",
   "metadata": {},
   "source": [
    "$v_\\pi(15) = 0.25 (-1 -22 \\gamma ) + 0.25(-1 + \\gamma v_\\pi(13) ) + 0.25(-1 -14 \\gamma ) + 0.25(  -1  + \\gamma v_\\pi(15))$\n",
    "\n",
    "\n",
    "$v_\\pi(15) = 0.25 (-1 -19.8 ) + 0.25(-1 + 0.9 * v_\\pi(13)) + 0.25(-1 -12.6 ) + 0.25(  -1  + 0.9 * v_\\pi(15))$\n",
    "\n",
    "\n",
    "$v_\\pi(15) = 0.25 (-20.8 ) - 0.25 + 0.225 * v_\\pi(13) + 0.25(-13.6 ) - 0.25  +  0.225 * v_\\pi(15)$\n",
    "\n",
    "$v_\\pi(15) = -5.2 -0.25 + 0.225 * v_\\pi(13) -3.4 - 0.25  +  0.225 * v_\\pi(15)$\n",
    "\n",
    "$v_\\pi(15) = -9.1 + 0.225 * v_\\pi(13)  +  0.225 * v_\\pi(15)$\n",
    "\n",
    "$0.775 v_\\pi(15) = -9.1 + 0.225 * v_\\pi(13)$\n",
    "\n",
    "$v_\\pi(15) = -11.74 + 0.2903 * v_\\pi(13)$\n"
   ]
  },
  {
   "cell_type": "markdown",
   "metadata": {},
   "source": [
    "Resolvendo o sistema de equações, temos:\n",
    "\n",
    "$v_\\pi(13) = -13.6 +  0.225 *(-11.74 0.2903 * v_\\pi(13)) $\n",
    "\n",
    "$v_\\pi(13) = -16.2415 +  0.0653 * v_\\pi(13)) $\n",
    "\n",
    "$v_\\pi(13) - 0.0653 * v_\\pi(13)) = -16.2415 $\n",
    "\n",
    "$v_\\pi(13)) = -16.2415/0.9346825$\n",
    "\n",
    "\n",
    "$v_\\pi(13) = -17.3764 $\n"
   ]
  },
  {
   "cell_type": "markdown",
   "metadata": {},
   "source": [
    "E:\n",
    "\n",
    "$v_\\pi(15) = -11.74 + 0.2903 * -17.3764$\n",
    "\n",
    "$v_\\pi(15) = -11.74 - 5.04436$\n",
    "\n",
    "$v_\\pi(15) = -11.74 - 5.04436$\n",
    "\n",
    "$v_\\pi(15) = -16.7843$\n"
   ]
  }
 ],
 "metadata": {
  "kernelspec": {
   "display_name": "Python 3",
   "language": "python",
   "name": "python3"
  },
  "language_info": {
   "codemirror_mode": {
    "name": "ipython",
    "version": 3
   },
   "file_extension": ".py",
   "mimetype": "text/x-python",
   "name": "python",
   "nbconvert_exporter": "python",
   "pygments_lexer": "ipython3",
   "version": "3.8.3"
  }
 },
 "nbformat": 4,
 "nbformat_minor": 4
}
