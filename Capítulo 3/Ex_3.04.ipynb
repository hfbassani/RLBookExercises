{
 "metadata": {
  "language_info": {
   "codemirror_mode": {
    "name": "ipython",
    "version": 3
   },
   "file_extension": ".py",
   "mimetype": "text/x-python",
   "name": "python",
   "nbconvert_exporter": "python",
   "pygments_lexer": "ipython3",
   "version": 3
  },
  "orig_nbformat": 4
 },
 "nbformat": 4,
 "nbformat_minor": 2,
 "cells": [
  {
   "source": [
    "## Ex 3.04"
   ],
   "cell_type": "markdown",
   "metadata": {}
  },
  {
   "source": [
    "Sendo $r_{search}$ e $r_{wait}$ o valor esperado da recompensa em cada caso, a tabela fica:\n",
    "\n",
    "|  $s_t$  |   $a$  | $s_{t+1}$ |     $r$      |  $p(s_{t+1},r\\|s,a)$ | \n",
    "|---------|--------|-----------|--------------|----------------------|\n",
    "|   high  | search |    high   | $r_{search}$ |  $\\alpha{}$   |\n",
    "|   high  | search |    low    | $r_{search}$ |  $1 - \\alpha{}$   |\n",
    "|   low   | search |    high   | -3 |  $1 - \\beta{}$    |\n",
    "|   low   | search |    low    | $r_{search}$ |  $\\beta{}$   |\n",
    "|   high  |  wait  |    high   | $r_{wait}$ |  1  |\n",
    "|   high  |  wait  |    low    | 0 |  0   |\n",
    "|   low   |  wait  |    high   | 0 |  0   |\n",
    "|   low   |  wait  |    low    | $r_{wait}$ |  1  |\n",
    "|   low   |  rech  |    high   | 0 |  1   |\n",
    "|   low   |  rech  |    low    | 0 |  0   |"
   ],
   "cell_type": "markdown",
   "metadata": {}
  },
  {
   "source": [],
   "cell_type": "markdown",
   "metadata": {}
  }
 ]
}