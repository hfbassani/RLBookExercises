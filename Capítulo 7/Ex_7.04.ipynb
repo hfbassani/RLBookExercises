{
  "nbformat": 4,
  "nbformat_minor": 0,
  "metadata": {
    "colab": {
      "name": "Ex_7.04.ipynb",
      "provenance": [],
      "collapsed_sections": []
    },
    "kernelspec": {
      "name": "python3",
      "display_name": "Python 3"
    },
    "language_info": {
      "name": "python"
    }
  },
  "cells": [
    {
      "cell_type": "markdown",
      "metadata": {
        "id": "gExfhortJQgW"
      },
      "source": [
        "# Disciplina: Aprendizagem por Reforço\n",
        "**Aluno:** Julio Cezar Soares Silva\n",
        "\n",
        "**Professor:** Hansenclever Bassani \n",
        "\n",
        "**Exercício 7.04**\n",
        "Prove that the $n$-step return of Sarsa can be written exactly in terms of a novel TD error, as\n",
        "\n",
        "$G_{t:t+n} = Q_{t-1}(S_t, A_t) + \\sum_{k=t}^{min(t+n,T)-1} \\gamma^{k-t}\\big[ R_{k+1} + \\gamma Q_k(S_{k+1},A_{k+1}) - Q_{k-1}(S_k,A_k)) \\big]$  "
      ]
    },
    {
      "cell_type": "markdown",
      "metadata": {
        "id": "7uLKSDWekHQ5"
      },
      "source": [
        "Sabe-se que o alvo do $n$-step SARSA é o retorno $n$-step:\n",
        "\n",
        "$G_{t:t+n} = \\sum_{k=t+1}^{min(t+n,T)-1} \\gamma^{k-t-1} R_{k+1} + \\gamma^n Q_{t+n-1}(S_{t+n},A_{t+n})$  \n",
        "\n",
        "Um erro TD associado a uma atualização de um passo de $Q_{k+1}$, que é a estimativa de $q_\\pi$ no tempo $k+1$, é dado por:\n",
        "\n",
        "$\\phi_k = [R_{k+1} + \\gamma Q_{k}(S_{k+1},A_{k+1}) - Q_{k-1}(S_k,A_k)]$\n",
        "\n",
        "Voltando para o alvo do $n$-step SARSA e fazendo adições de termos $Q_{k}(S_k,A_k)$ - $Q_{k}(S_k,A_k)$, para $k = t+1,...,t+n-1$ temos: \n",
        "\n",
        "$G_{t:t+n} = \\sum_{k=t+1}^{min(t+n-1,T)-1} \\gamma^{k-t-1} R_{k+1} + \\gamma^{n-1} R_{t+n} + \\gamma^n Q_{t+n-1}(S_{t+n},A_{t+n}) + Q_{t+n-2}(S_{t+n-1},A_{t+n-1}) - Q_{t+n-2}(S_{t+n-1},A_{t+n-1})$\n",
        "\n",
        "= $Q_{t+n-2}(S_{t+n-1},A_{t+n-1}) + \\sum_{k=t+1}^{min(t+n-1,T)-1} \\gamma^{k-t-1} R_{k+1} + \\gamma^{n-1}\\big[R_{t+n} + \\gamma Q_{t+n-1}(S_{t+n},A_{t+n}) - Q_{t+n-2}(S_{t+n-1},A_{t+n-1})\\big]$\n",
        "\n",
        "Substituindo-se $\\phi_{t+n-1} = [R_{t+n} + \\gamma Q_{t+n-1}(S_{t+n},A_{t+n}) - Q_{t+n-2}(S_{t+n-1},A_{t+n-1})]$ na equação, temos:\n",
        "\n",
        "$G_{t:t+n} = Q_{t+n-2}(S_{t+n-1},A_{t+n-1}) + \\sum_{k=t+1}^{min(t+n-1,T)-1} \\gamma^{k-t-1} R_{k+1} + \\gamma^{n-1} \\phi_{t+n-1} $\n",
        "\n",
        "= $ Q_{t+n-3}(S_{t+n-2},A_{t+n-2}) + \\sum_{k=t+1}^{min(t+n-2,T)-1} \\gamma^{k-t-1} R_{k+1} + \\gamma^{n-2} \\phi_{t+n-2} + \\gamma^{n-1} \\phi_{t+n-1} $\n",
        "\n",
        "= $ Q_{t+n-3}(S_{t+n-2},A_{t+n-2}) + \\sum_{k=t+1}^{min(t+n-2,T)-1} \\gamma^{k-t-1} R_{k+1} + \\sum_{k=t+n-2}^{min(t+n,T)}\\gamma^{k-t}\\phi_{k}$\n",
        "\n",
        "Fazendo estas substituições para os $n-2$ períodos restantes:\n",
        "\n",
        "$G_{t:t+n} = Q_{t-1}(S_{t},A_{t}) + \\sum_{k=t}^{min(t+n,T)}\\gamma^{k-t}\\phi_{k}$\n",
        "\n",
        "Substituindo-se $\\phi_k$ por  $[R_{k+1} + \\gamma Q_{k}(S_{k+1},A_{k+1}) - Q_{k-1}(S_k,A_k)]$ na equação, temos:\n",
        "\n",
        "$G_{t:t+n} = Q_{t-1}(S_{t},A_{t}) + \\sum_{k=t}^{min(t+n,T)}\\gamma^{k-t} [R_{k+1} + \\gamma Q_{k}(S_{k+1},A_{k+1}) - Q_{k-1}(S_k,A_k)]$\n",
        "\n"
      ]
    }
  ]
}