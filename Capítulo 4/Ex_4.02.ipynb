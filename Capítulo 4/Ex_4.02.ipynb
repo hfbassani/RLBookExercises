{
  "nbformat": 4,
  "nbformat_minor": 0,
  "metadata": {
    "kernelspec": {
      "display_name": "Python 3",
      "language": "python",
      "name": "python3"
    },
    "language_info": {
      "codemirror_mode": {
        "name": "ipython",
        "version": 3
      },
      "file_extension": ".py",
      "mimetype": "text/x-python",
      "name": "python",
      "nbconvert_exporter": "python",
      "pygments_lexer": "ipython3",
      "version": "3.8.5"
    },
    "colab": {
      "name": "Ex_4.02.ipynb",
      "provenance": [],
      "collapsed_sections": []
    }
  },
  "cells": [
    {
      "cell_type": "markdown",
      "metadata": {
        "id": "RbQvFMnGtSai"
      },
      "source": [
        "#### *Exercise 4.2*\n",
        "\n",
        "#### In Example 4.1, suppose a new state 15 is added to the gridworld just below state 13, and its actions, left, up, right, and down, take the agent to states 12, 13, 14, and 15, respectively. Assume that the transitions from the original states are unchanged. What, then, is $v_\\pi$(15) for the equiprobable random policy? Now suppose the dynamics of state 13 are also changed, such that action down from state 13 takes the agent to the new state 15. What is $v_\\pi$(15) for the equiprobable random policy in this case?"
      ]
    },
    {
      "cell_type": "markdown",
      "metadata": {
        "id": "COv3YT6ytSas"
      },
      "source": [
        "---\n",
        "#### Resposta 1:\n",
        "i)\n",
        "\n",
        "Os valores utilizados para $v_\\pi$ são provenientes da figura 4.1 quando $k$ tende ao infinito. \n",
        "\n",
        "Usando a equação (4.4) (considerando o $\\gamma$ como 1):\n",
        "\n",
        "$v_\\pi = \\sum_{a}{\\pi(a|s)} \\sum_{s', r}{p(s',r|s,a)[r + v_\\pi(s') ]} $\n",
        "\n",
        "$v_\\pi = (-21-15-23-1+v_\\pi)/4$\n",
        "\n",
        "$v_\\pi = (-60 + v_\\pi)/4$ \n",
        "\n",
        "$3v_\\pi = -60$\n",
        "\n",
        "$v_\\pi = - 20$\n",
        "\n",
        "ii)\n",
        "\n",
        "Observando as transições entre estados de acordo com as ações tomadas, observa-se que acrescentar o estado 15 não vai alterar o valor do estado 13. Se em 13 houver movimento para baixo, no caso sem o estado 15, permanece em um estado de valor -20. O mesmo acontece se houver o estado 15, já que o valor de 15 também é -20. Também o fato de acrescentar 15 não vai interferir nas transições para direita ou esquerda, já que as transições de 13 e 15 são iguais. Por último, o estado acima vale -20, que é o mesmo valor que seria encontrado se estivéssemos em 15. Uma vez que acrescentar 15 não afeta as transições em 13, $v_\\pi$(13) não altera e $v_\\pi$(15) consequentemente permanece o mesmo valor. "
      ]
    }
  ]
}
