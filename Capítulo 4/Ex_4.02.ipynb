{
 "metadata": {
  "language_info": {
   "codemirror_mode": {
    "name": "ipython",
    "version": 3
   },
   "file_extension": ".py",
   "mimetype": "text/x-python",
   "name": "python",
   "nbconvert_exporter": "python",
   "pygments_lexer": "ipython3",
   "version": 3
  },
  "orig_nbformat": 4
 },
 "nbformat": 4,
 "nbformat_minor": 2,
 "cells": [
  {
   "source": [
    "## 4.02"
   ],
   "cell_type": "markdown",
   "metadata": {}
  },
  {
   "source": [
    "#### a)\n",
    "Dado que as transições do MDP ainda permanecem as mesmas, podemos calcular o valor esperado do novo estado $s_{new}$:\n",
    "\n",
    "O $v(s_{new})$ é calculado da forma:\n",
    "\n",
    "$$ v(s_{new}) = E[G_t || S_t = s_t] $$\n",
    "$$ v(s_{new}) = E[R_t + \\gamma{}G_{t+1} || S_t = s_t] $$\n",
    "$$ v(s_{new}) = E[R_t + \\gamma{}v(S_{t+1}) || S_t = s_t] $$\n",
    "$$ v(s_{new}) = \\sum_{a}\\pi{}(a||s_{new})\\sum_{s_{t+1}, r}p(s_{t+1},r||s_{new},a)[r + \\gamma{}v(s_{t+1})] $$\n",
    "\n",
    "Dado que o MDP é deterministico(p4 é sempre 1) e cada ação tem recompensa -1(não tem como chegar no estado final) e cada ação tem probabilidade 25%:\n",
    "\n",
    "$$ v(s_{new}) = \\frac{1}{4}((-1 + v(s_{12}) + (-1 + v(s_{13})) + (-1 + v(s_{14})) + (-1 + v(s_{new})))  $$\n",
    "$$ v(s_{new}) = \\frac{1}{4}(-23 -21 -15 - 1 + v(s_{new}))  $$\n",
    "$$ v(s_{new}) = -20  $$\n",
    "\n",
    "#### b)\n",
    " O valor será o mesmo: $v(s_{new}=-20)$. Podemos ver isso porque $s_{new}$ é basicamente o mesmo estado que $s_{13}$. Comparado as ações e valor esperado dos dois estados:\n",
    "\n",
    "1) Subir: Ele pode ir para cima e esbarrar em um estado valor de -20($s_{13}$ esbarra em $s_{9}$ e $s_{new}$ no proprio $s_{13}$)\n",
    "\n",
    "2) Andar de lado: Ambos $s_{13}$ e $s_{new}$ vão para o mesmo estado $s_{12}$ e $s_{14}$.\n",
    "\n",
    "3) Descer: $s_{13}$ vai para o $s_{new}$ e $s_{new}$ para ele mesmo. \n",
    "\n",
    "$s_{new}$ funciona quase como o mesmo par estado-ação Q($s_{13}$, descer)"
   ],
   "cell_type": "markdown",
   "metadata": {}
  },
  {
   "cell_type": "code",
   "execution_count": null,
   "metadata": {},
   "outputs": [],
   "source": []
  }
 ]
}