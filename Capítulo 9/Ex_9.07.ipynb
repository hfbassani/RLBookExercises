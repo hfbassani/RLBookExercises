{
 "cells": [
  {
   "cell_type": "markdown",
   "metadata": {},
   "source": [
    "#### *Exercise 9.7*\n",
    "\n",
    "#### One of the simplest artificial neural networks consists of a single semi-linear unit with a logistic nonlinearity. The need to handle approximate value functions of this form is common in games that end with either a win or a loss, in which case the value of a state can be interpreted as the probability of winning. Derive the learning algorithm for this case, from (9.7), such that no gradient notation appears"
   ]
  },
  {
   "cell_type": "markdown",
   "metadata": {},
   "source": [
    "---\n",
    "#### Resposta 1:\n",
    "\n",
    "Note a equação 9.7, que é:\n",
    "\n",
    "$w_{t+1} = w_t + \\alpha [U_t - \\hat{v}(S_t, w_t)] \\nabla \\hat{v}(S_t, w_t)$\n",
    "\n",
    "Tomando v como a função logística:\n",
    "\n",
    "### $\\hat{v}(S_t, w_t) = \\frac{1}{1+e^{-xw}}$\n",
    "\n",
    "Podemos computar a derivada da função logística, que é:\n",
    "\n",
    "### $\\nabla \\hat{v}(S_t, w_t) = \\frac{e^{xw}}{(e^{xw}+1)^2}x$ \n",
    "(o x no fim aparece pela regra da cadeia)\n",
    "\n",
    "Assim, temos:\n",
    "\n",
    "### $w_{t+1} = w_t + \\alpha [U_t - \\frac{1}{1+e^{-xw}}] \\frac{e^{xw}}{(e^{xw}+1)^2}x$"
   ]
  }
 ],
 "metadata": {
  "kernelspec": {
   "display_name": "Python 3 (Spyder)",
   "language": "python3",
   "name": "python3"
  },
  "language_info": {
   "codemirror_mode": {
    "name": "ipython",
    "version": 3
   },
   "file_extension": ".py",
   "mimetype": "text/x-python",
   "name": "python",
   "nbconvert_exporter": "python",
   "pygments_lexer": "ipython3",
   "version": "3.8.5"
  }
 },
 "nbformat": 4,
 "nbformat_minor": 4
}
