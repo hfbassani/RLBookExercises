{
 "cells": [
  {
   "cell_type": "markdown",
   "metadata": {},
   "source": [
    "#### *Exercise 3.6*\n",
    "\n",
    "#### Suppose you treated pole-balancing as an episodic task but also used discounting, with all rewards zero except for -1 upon failure. What then would the return be at each time? How does this return differ from that in the discounted, continuing formulation of this task?"
   ]
  },
  {
   "cell_type": "markdown",
   "metadata": {},
   "source": [
    "---\n",
    "#### Resposta 1:\n",
    "A taxa de disconto determina que uma recompensa recebida em k passos vale $\\gamma^{k-1}$, logo, a recompensa no tempo t é dada por:\n",
    "\n",
    "$G_{t}=-\\gamma^{T-t}$, onde T é o tempo do estado Terminal\n",
    "\n",
    "A recompensa em t na formulação continua é dada por:\n",
    "\n",
    "$G_{t}=\\sum \\limits _{k \\in K}  \\gamma^{k-t}$, onde K é o conjunto de todos os tempos antes de tempo do estado terminal"
   ]
  },
  {
   "cell_type": "markdown",
   "metadata": {},
   "source": [
    "---\n",
    "#### Resposta 2:\n",
    "no caso da tarefa episódica, o retorno final seria:\n",
    "\n",
    "$G_{t}=-\\gamma^{k-1}$, em que k(minúsculo) é o número de passos de tempo até a falha.\n",
    "\n",
    "Isso é diferente do caso contínuo porque, no caso contínuo, a vareta (pole) é reerguida após cada falha e pode cair novamente, de forma que o retorno completo seria algo parecido com a expressão anterior para cada ponto de falha. Como diz no livro (ênfase minha), \n",
    "\"O retorno a cada tempo seria relacionado a $\\gamma^{K-1}$, em que K é o número de passos de tempo até falha (**e, também, até os tempos de falhas posteriores**)\"\n",
    "\n",
    "Daí se deduz que o retorno contínuo não é precisamente a fórmula apresentada no trecho citado. A saber, o retorno contínuo seria:\n",
    "\n",
    "$G_{t}=\\sum \\limits _{k \\in K}  -\\gamma^{k-1}$, em que cada k(minúsculo) é um número de passos de tempo até uma falha, e K(maiúsculo) é o conjunto de todos as quantidades de passos de tempo até as falhas.\n",
    "\n",
    "P.S.: subtrai-se 1 de k porque os passos são contados a partir de 1, enquanto o expoente dos descontos é contado a partir de 0 (vide fórmula 3.8)"
   ]
  }
 ],
 "metadata": {
  "kernelspec": {
   "display_name": "Python 3 (Spyder)",
   "language": "python3",
   "name": "python3"
  },
  "language_info": {
   "codemirror_mode": {
    "name": "ipython",
    "version": 3
   },
   "file_extension": ".py",
   "mimetype": "text/x-python",
   "name": "python",
   "nbconvert_exporter": "python",
   "pygments_lexer": "ipython3",
   "version": "3.8.5"
  }
 },
 "nbformat": 4,
 "nbformat_minor": 4
}
