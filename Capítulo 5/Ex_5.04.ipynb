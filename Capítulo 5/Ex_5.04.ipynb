{
  "nbformat": 4,
  "nbformat_minor": 0,
  "metadata": {
    "colab": {
      "name": "Ex_5.04.ipynb",
      "provenance": [],
      "collapsed_sections": []
    },
    "kernelspec": {
      "name": "python3",
      "display_name": "Python 3"
    },
    "language_info": {
      "name": "python"
    }
  },
  "cells": [
    {
      "cell_type": "markdown",
      "metadata": {
        "id": "gExfhortJQgW"
      },
      "source": [
        "# Disciplina: Aprendizagem por Reforço\n",
        "**Aluno:** Julio Cezar Soares Silva\n",
        "\n",
        "**Professor:** Hansenclever Bassani \n",
        "\n",
        "**Exercício 5.04**\n",
        "The pseudocode for Monte Carlo ES is inefficient because, for each state–\n",
        "action pair, it maintains a list of all returns and repeatedly calculates their mean. It would\n",
        "be more efficient to use techniques similar to those explained in Section 2.4 to maintain\n",
        "just the mean and a count (for each state–action pair) and update them incrementally.\n",
        "Describe how the pseudocode would be altered to achieve this."
      ]
    },
    {
      "cell_type": "markdown",
      "metadata": {
        "id": "k82jEKjhK9ZJ"
      },
      "source": [
        "Como foi visto na seção 2.4, a implementação incremental de Q para uma ação em $S$ após ser escolhida $n$ vezes se dá por:\n",
        "\n",
        "$Q_{n+1} = \\frac{R_1 + R_2 + R_3 + ... +R_{n}}{n}$\n",
        "\n",
        "$Q_{n+1} = Q_n + \\frac{1}{n}\\big[R_n - Q_n\\big]$\n",
        "\n",
        "O algoritmo de Monte Carlo com ES foi modificado para a implementação incremental e é mostrado abaixo.\n",
        "\n",
        "=============================================================================\n",
        "\n",
        "Algoritmo - Incremental Monte Carlo Exploring Starts for estimating $\\pi \\approx \\pi_*$\n",
        "\n",
        "Input: Target policy $\\pi$\n",
        "\n",
        "1 Initialize $Q(s,a)$ and $\\pi(s) \\in A(s)$ arbitrarily, and $N(s,a) \\leftarrow 0$ for all $s \\in S$ and $a \\in A(s)$.  .\n",
        "\n",
        "3 Loop forever (for each episode):\n",
        "\n",
        "--- 3.1 Choose $S_0 \\in S$ and $A_0 \\in A(s)$ such that all pairs have probability $> 0$\n",
        "\n",
        "--- 3.2 $EP_{b} = [S_0, A_0, R_1, ... S_{T-1}, A_{T-1}, R_{T}]$ \n",
        "\n",
        "--- 3.3 $G \\leftarrow 0$ \n",
        "\n",
        "--- 3.4 Loop for each step $t$ of $EP_b$, $t = T-1, T-2, ..., 0$\n",
        "\n",
        "--- --- 3.4.1 $G \\leftarrow \\gamma G + R_{t+1}$ \n",
        "\n",
        "--- --- 3.4.2 $N(S_t, A_t) \\leftarrow N(S_t, A_t) + 1$ \n",
        "\n",
        "--- --- 3.4.3 IF $(S_t,A_t) \\notin \\{(S_0,A_0), (S_1,A_1), ...,(S_{t-1},A_{t-1})\\}$\n",
        "\n",
        "--- --- --- 3.4.3.1 $Q(S_t, A_t) \\leftarrow Q(S_t, A_t) + \\frac{1}{N(S_t, A_t)}\\big[G - Q(S_t,A_t)\\big]$ \n",
        "\n",
        "\n",
        "============================================================================="
      ]
    }
  ]
}