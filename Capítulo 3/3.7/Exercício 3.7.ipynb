{
 "cells": [
  {
   "cell_type": "markdown",
   "metadata": {},
   "source": [
    "### Q: Imagine that you are designing a robot to run a maze. You decide to give it a reward of +1 for escaping from the maze and a reward of zero at all other times. The task seems to break down naturally into episodes—the successive runs through the maze—so you decide to treat it as an episodic task, where the goal is to maximize expected total reward (3.7). After running the learning agent for a while, you find that it is showing no improvement in escaping from the maze. What is going wrong? Have you e↵ectively communicated to the agent what you want it to achieve?"
   ]
  },
  {
   "cell_type": "markdown",
   "metadata": {},
   "source": [
    "O robô nunca vai realizar ações baseadas em algum conhecimento prévio. Todas as suas\n",
    "atitudes são completamente aleatórias, pois a noção de que ele está fazendo as ações corretas ou erradas \n",
    "(a recompensa) foi definida para ser sempre zero até que ele saia do labirinto. Ou seja, qualquer ação\n",
    "dentro do labirinto tem a mesma probabilidade acontecer em qualquer passo das iterações do algoritmo, \n",
    "não há como definir se a ação de um passo foi boa ou ruim."
   ]
  }
 ],
 "metadata": {
  "kernelspec": {
   "display_name": "Python 3.8.5 64-bit",
   "language": "python",
   "name": "python_defaultSpec_1599427481775"
  },
  "language_info": {
   "codemirror_mode": {
    "name": "ipython",
    "version": 3
   },
   "file_extension": ".py",
   "mimetype": "text/x-python",
   "name": "python",
   "nbconvert_exporter": "python",
   "pygments_lexer": "ipython3",
   "version": "3.8.5-final"
  }
 },
 "nbformat": 4,
 "nbformat_minor": 2
}