{
 "metadata": {
  "language_info": {
   "codemirror_mode": {
    "name": "ipython",
    "version": 3
   },
   "file_extension": ".py",
   "mimetype": "text/x-python",
   "name": "python",
   "nbconvert_exporter": "python",
   "pygments_lexer": "ipython3",
   "version": 3
  },
  "orig_nbformat": 4
 },
 "nbformat": 4,
 "nbformat_minor": 2,
 "cells": [
  {
   "source": [
    "## 9.01"
   ],
   "cell_type": "markdown",
   "metadata": {}
  },
  {
   "source": [
    "O métodos tabulares apresentados na parte 1 do livro podem ser apresentados como um caso especial de funções de aproximação da seguinte forma:\n",
    "  \n",
    "Os estados são representados por um vetor one-hot-encoder com tamanho $|S|$ e vetor de pesos as funções de valor-estado: \n",
    "\n",
    "Ex: para um problema com n estados, o estado $S_t$ seria representado pelo vetor: \n",
    "$$S(s_i) = (0_1, 0_2, ..., 1_i, ..., 0_n)$$\n",
    "E a função de valor-estado:\n",
    "$$ W = (V(s_1), V(s_2), ..., V(s_n))$$\n",
    "Então para obter o valor de $V(S_i)$ é preciso apenas realizar o produto interno entre $W$ e $S$\n",
    "$$ V(s_i) = \\sum^{n}_{i} s_i*w_i $$"
   ],
   "cell_type": "markdown",
   "metadata": {}
  },
  {
   "cell_type": "code",
   "execution_count": null,
   "metadata": {},
   "outputs": [],
   "source": []
  }
 ]
}