{
 "cells": [
  {
   "cell_type": "markdown",
   "metadata": {},
   "source": [
    "Exercise 7.1 In Chapter 6 we noted that the Monte Carlo error can be written as the\n",
    "sum of TD errors (6.6) if the value estimates don’t change from step to step. Show that\n",
    "the n-step error used in (7.2) can also be written as a sum TD errors (again if the value\n",
    "estimates don’t change) generalizing the earlier result."
   ]
  },
  {
   "cell_type": "code",
   "execution_count": null,
   "metadata": {},
   "outputs": [],
   "source": []
  },
  {
   "cell_type": "markdown",
   "metadata": {},
   "source": [
    "Considerando que:\n",
    "\n",
    "$\\delta_t= R_{t+1} - V(S_t) + \\gamma V(S_{t+1})$\n",
    "\n",
    "e \n",
    "\n",
    "$G_{t:t+n} = R_{t+1} + \\gamma R_{t+2} + ... + \\gamma^{n-1} R_{t+ n} + \\gamma^nV_{t+n-1}(S_{t+n}) $\n"
   ]
  },
  {
   "cell_type": "markdown",
   "metadata": {},
   "source": [
    "O erro n-step é dado por $G_{t:t+n} - V_{t+n-1}(S_t)$, então:\n",
    "\n",
    "$$G_{t:t+n} - V_{t+n-1}(S_t) = R_{t+1} + \\gamma R_{t+2} + ... + \\gamma^{n-1} R_{t+ n} + \\gamma^nV_{t+n-1}(S_{t+n})  - V_{t+n-1}(S_t)$$\n",
    "\n",
    "Como não existe mudança nos valores da função em cada step, então $V_{t-1}(S_t) = V(S_t)$\n",
    "\n",
    "$$G_{t:t+n} - V(S_t) = R_{t+1} + \\gamma R_{t+2} + ... + \\gamma^{n-1} R_{t+ n} + \\gamma^nV(S_{t+n})  - V(S_t)$$\n",
    "\n",
    "Podemos somar e subtrair o valor $\\gamma V(S_{t+1})$, então:\n",
    "\n",
    "$$G_{t:t+n} - V(S_t) = R_{t+1} + \\gamma R_{t+2} + ... + \\gamma^{n-1} R_{t+ n} + \\gamma^nV(S_{t+n})  - V(S_t) + \\gamma V(S_{t+1}) - \\gamma V(S_{t+1})$$\n",
    "\n",
    "Podemos selecionar os termos $R_{t+1}- V(S_t) + \\gamma V(S_{t+1})$ e substituir por $\\delta_t$\n"
   ]
  },
  {
   "cell_type": "markdown",
   "metadata": {},
   "source": [
    "$$G_{t:t+n} - V(S_t) = \\delta_t + \\gamma R_{t+2} + ... + \\gamma^{n-1} R_{t+ n} + \\gamma^nV(S_{t+n}) - \\gamma V(S_{t+1})$$\n",
    "\n",
    "$$G_{t:t+n} - V(S_t) = \\delta_t + \\gamma [R_{t+2} + ... + \\gamma^{n-2} R_{t+ n} + \\gamma^{n-1}V(S_{t+n}) - V(S_{t+1})]$$\n",
    "\n",
    "Podemos somar e subtrair o valor $\\gamma^2 V(S_{t+2})$, então:\n",
    "\n",
    "$$G_{t:t+n} - V(S_t) = \\delta_t + \\gamma [R_{t+2} + ... + \\gamma^{n-2} R_{t+ n} + \\gamma^{n-1}V(S_{t+n}) - V(S_{t+1}) + \\gamma V(S_{t+2}) - \\gamma V(S_{t+2}) ]$$\n",
    "\n",
    "Podemos selecionar os termos $R_{t+2}- V(S_{t+1}) + \\gamma V(S_{t+2})$ e substituir por $\\delta_{t+1}$\n"
   ]
  },
  {
   "cell_type": "markdown",
   "metadata": {},
   "source": [
    "$$G_{t:t+n} - V(S_t) = \\delta_t +  \\gamma [ \\delta_{t+1} + \\gamma R_{t+3} + ... + \\gamma^{n-2} R_{t+ n} + \\gamma^{n-1}V(S_{t+n}) - \\gamma V(S_{t+2}) ]$$\n",
    "\n",
    "$$G_{t:t+n} - V(S_t) = \\delta_t + \\gamma \\delta_{t+1} + \\gamma [ \\gamma R_{t+3} + ... + \\gamma^{n-2} R_{t+ n} + \\gamma^{n-1}V(S_{t+n}) - \\gamma V(S_{t+2}) ]$$\n",
    "\n",
    "Colocando outro $\\gamma$ em evidência, temos:\n",
    "$$G_{t:t+n} - V(S_t) = \\delta_t + \\gamma \\delta_{t+1} + \\gamma^2 [ R_{t+3} + ... + \\gamma^{n-3} R_{t+ n} + \\gamma^{n-2}V(S_{t+n}) - V(S_{t+2}) ]$$\n",
    "\n",
    "Realizando os mesmos passos repetidamente, temos:\n",
    "\n",
    "$$G_{t:t+n} - V(S_t) = \\delta_t + \\gamma \\delta_{t+1} + ...+ \\gamma^{n-2}\\delta_{t+n-2}  + \\gamma^{n-1} [ R_{t+n} +  \\gamma V(S_{t+n}) - V(S_{t+n-1}) ]$$\n",
    "\n",
    "$$G_{t:t+n} - V(S_t) = \\delta_t + \\gamma \\delta_{t+1} + ...+ \\gamma^{n-2}\\delta_{t+n-2}  + \\gamma^{n-1} \\delta_{t+n-1} $$\n",
    "\n",
    "\n",
    "$$G_{t:t+n} - V(S_t) = \\sum_{k=t}^{t+n-1}\\gamma^{k-t} \\delta_{k} $$\n",
    "\n",
    "Sendo igual ao demonstrado no Capítulo 6 que a soma dos Erros TDs era igual ao Erro de Monte Carlo."
   ]
  }
 ],
 "metadata": {
  "kernelspec": {
   "display_name": "Python 3",
   "language": "python",
   "name": "python3"
  },
  "language_info": {
   "codemirror_mode": {
    "name": "ipython",
    "version": 3
   },
   "file_extension": ".py",
   "mimetype": "text/x-python",
   "name": "python",
   "nbconvert_exporter": "python",
   "pygments_lexer": "ipython3",
   "version": "3.8.3"
  }
 },
 "nbformat": 4,
 "nbformat_minor": 4
}
