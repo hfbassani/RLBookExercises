{
 "cells": [
  {
   "cell_type": "markdown",
   "metadata": {},
   "source": [
    "\n",
    "\n",
    "Os retornos podem ser descritos como:  \n",
    "\n",
    "$$G_{t} = R_{t+1} + \\gamma R_{t+2} + \\gamma^{2} R_{t+3}... = \\sum_{k=0}^{+\\infty}\\gamma^{k}R_{t+k+1}$$  \n",
    "para o caso de recompensas constantes igual a $1$, então:  \n",
    "$$G_{t} = 1 + \\gamma + \\gamma^{2}... = \\sum_{k=0}^{+\\infty}\\gamma^{k} = \\frac{1}{1-\\gamma}$$  \n",
    "  \n",
    "Para provar essa última relação, basta lembramos do conceito de limite de uma sequência numérica, em que uma sequência numérica $a_{n}$ tem limite $L$ se, e somente se:\n",
    "$$\\forall \\varepsilon >0;\\exists n_{0} \\in \\mathbb{N} : n>n_{0}\\Rightarrow \\mid a_{n}-L \\mid < \\varepsilon$$\n",
    "Para nossa sequência numérica, temos que provar então que para qualquer $\\varepsilon$, existe $n$ tal que:  \n",
    "$$\\mid \\sum_{k=0}^{n}\\gamma^{k} - \\frac{1}{1-\\gamma}\\mid < \\varepsilon$$\n",
    "$$\\mid \\frac{1 - \\gamma^{n+1}}{1 - \\gamma} - \\frac{1}{1 - \\gamma} \\mid < \\varepsilon$$\n",
    "$$\\mid \\frac{1 - \\gamma^{n+1} - 1}{1 - \\gamma} \\mid < \\varepsilon$$\n",
    "$$\\mid \\frac{ - \\gamma^{n+1}}{1 - \\gamma} \\mid = \\mid \\frac{\\gamma^{n+1}}{1 - \\gamma} \\mid < \\varepsilon$$\n",
    "$$\\mid \\gamma^{n}\\frac{\\gamma}{1-\\gamma} \\mid < \\varepsilon$$\n",
    "\n",
    "$$\\mid \\gamma^{n} \\mid < \\varepsilon\\mid\\frac{1 - \\gamma}{\\gamma}\\mid$$ pois $\\mid \\gamma \\mid <1 \\Rightarrow \\mid \\frac{1 - \\gamma}{\\gamma} \\mid >0$.  \n",
    "Aplicando o logaritmo natural (uma função injetora), em ambos os lados da desigualdade, temos:  \n",
    "$$nlog(\\mid \\gamma \\mid) < log(\\varepsilon\\mid\\frac{1 - \\gamma}{\\gamma}\\mid)$$\n",
    "Que implica em:  \n",
    "$$nlog(\\mid \\gamma \\mid) < log(\\varepsilon\\mid\\frac{1 - \\gamma}{\\gamma}\\mid)$$\n",
    "$$n > \\frac{log(\\varepsilon\\mid\\frac{1 - \\gamma}{\\gamma}\\mid)}{log(\\mid \\gamma \\mid)} $$\n",
    "pois como $\\mid \\gamma \\mid < 1$, então $log(\\mid \\gamma \\mid) < 0$.  \n",
    "Portanto, para qualquer $\\varepsilon > 0$ escolhido, basta escolher um $n$ natural tal que $n > \\frac{log(\\varepsilon\\mid\\frac{1 - \\gamma}{\\gamma}\\mid)}{log(\\mid \\gamma \\mid)} $.  \n",
    "Logo é verdade que $G_{t} = 1 + \\gamma + \\gamma^{2}... = \\sum_{k=0}^{+\\infty}\\gamma^{k} = \\frac{1}{1-\\gamma}$.  \n",
    "Q.E.D.\n",
    "\n",
    "\n",
    "\n"
   ]
  },
  {
   "cell_type": "code",
   "execution_count": null,
   "metadata": {},
   "outputs": [],
   "source": []
  }
 ],
 "metadata": {
  "kernelspec": {
   "display_name": "Python 3",
   "language": "python",
   "name": "python3"
  },
  "language_info": {
   "codemirror_mode": {
    "name": "ipython",
    "version": 3
   },
   "file_extension": ".py",
   "mimetype": "text/x-python",
   "name": "python",
   "nbconvert_exporter": "python",
   "pygments_lexer": "ipython3",
   "version": "3.8.5"
  }
 },
 "nbformat": 4,
 "nbformat_minor": 4
}
