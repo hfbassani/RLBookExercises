{
 "metadata": {
  "language_info": {
   "codemirror_mode": {
    "name": "ipython",
    "version": 3
   },
   "file_extension": ".py",
   "mimetype": "text/x-python",
   "name": "python",
   "nbconvert_exporter": "python",
   "pygments_lexer": "ipython3",
   "version": 3
  },
  "orig_nbformat": 4
 },
 "nbformat": 4,
 "nbformat_minor": 2,
 "cells": [
  {
   "source": [
    "## 6.08"
   ],
   "cell_type": "markdown",
   "metadata": {}
  },
  {
   "source": [
    "Seguindo a mesma derivação de (6.6) e com o TD error == $\\delta_{t} = R_{t+1} + \\gamma{}Q(S_{t+1}, A_{t+1}) - Q(S_t, A_t)$, temos:\n",
    "\n",
    "$$G_t - Q(S_t, A_t) = R_{t + 1} + \\gamma{}G_{t+1} - Q(S_t, A_t) + \\gamma{}Q(S_{t+1}, A_{t+1}) - \\gamma{}Q(S_{t+1}, A_{t+1})$$\n",
    "$$G_t - Q(S_t, A_t) = R_{t+1} + \\gamma{}Q(S_{t+1}, A_{t+1}) - Q(S_t, A_t) + \\gamma{}[G_{t+1} - Q(S_{t+1}, A_{t+1})]$$\n",
    "\n",
    "Podemos reduzir $R_{t+1} + \\gamma{}Q(S_{t+1}, A_{t+1}) - Q(S_t, A_t)$ para o erro TD $\\delta_{t}$\n",
    "\n",
    "$$G_t - Q(S_t, A_t) =  \\delta_{t} + \\gamma{}[G_{t+1} - Q(S_{t+1}, A_{t+1})]$$\n",
    "\n",
    "Continuando a expansão vamos obter outros erros TD multiplicados por $\\gamma^{k-t}$, para $k=1, 2, 3...$\n",
    "\n",
    "$$G_t - Q(S_t, A_t) =  \\delta_{t} + \\gamma{}(R_{t+2} + \\gamma{}Q(S_{t+2}, A_{t+2}) - Q(S_t, A_t)) + \\gamma^{2}[G_{t+2} - Q(S_{t+2}, A_{t+2})]$$\n",
    "$$G_t - Q(S_t, A_t) =  \\delta_{t} + \\gamma{}\\delta_{t+1} + \\gamma^{2}[G_{t+2} - Q(S_{t+2}, A_{t+2})]$$\n",
    "\n",
    "No estado final $G_{T}$ e $Q(S_T, A_T)$ é igual a $0$, logo temos a resposta: \n",
    "\n",
    "$$G_t - Q(S_t, A_t) =  \\delta_{t} + \\gamma{}\\delta_{t+1} + \\gamma^{2}\\delta_{t+2} + ... + \\gamma^{T}(0 - 0)$$\n",
    "$$ G_t - Q(S_t, A_t) = \\sum^{T-1}_{k=t}\\gamma^{k-t}\\delta_{t} $$\n",
    "\n",
    "**Mesma formula obtida de (6.6), porém dessa vez utilizando a  função de valor de par ação-estado**"
   ],
   "cell_type": "markdown",
   "metadata": {}
  },
  {
   "cell_type": "code",
   "execution_count": null,
   "metadata": {},
   "outputs": [],
   "source": []
  }
 ]
}