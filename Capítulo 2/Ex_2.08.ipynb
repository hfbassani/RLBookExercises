{
 "metadata": {
  "language_info": {
   "codemirror_mode": {
    "name": "ipython",
    "version": 3
   },
   "file_extension": ".py",
   "mimetype": "text/x-python",
   "name": "python",
   "nbconvert_exporter": "python",
   "pygments_lexer": "ipython3",
   "version": 3
  },
  "orig_nbformat": 4
 },
 "nbformat": 4,
 "nbformat_minor": 2,
 "cells": [
  {
   "source": [
    "## 2.08"
   ],
   "cell_type": "markdown",
   "metadata": {}
  },
  {
   "source": [
    "Dado que temos 10 ações, até o momento $t=10$ o algoritmo está selecionando cada uma dessas ações pelo menos 1 vezes(Se $N_t(a)=0$ então é preciso selecionar essa ação)\n",
    "\n",
    "No step $t=11$, é a primeira vez que o algoritmo seleciona uma ação com base nos valores de Q(a). Como o termo $c*\\sqrt{\\frac{ln(t)}{N_t(a)}}$ é igual para todos, já que $N_t(a) = 1$, a maximização ocorre em função dos valores recebidos para cada função nos últimos 10 steps.\n",
    "\n",
    "O pico ocorre por causa disso, já que ele seleciona a melhor ação com base em 1 amostra para cada ação.\n",
    "\n",
    "Logo depois no step $t=12$, o algoritmo já começa a balancear exploração vs exploitação."
   ],
   "cell_type": "markdown",
   "metadata": {}
  },
  {
   "cell_type": "code",
   "execution_count": null,
   "metadata": {},
   "outputs": [],
   "source": []
  }
 ]
}