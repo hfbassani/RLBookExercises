{
 "cells": [
  {
   "cell_type": "markdown",
   "metadata": {},
   "source": [
    "#### *Exercise 9.6*\n",
    "\n",
    "#### If $\\tau = 1$ and $x(S_t)^Tx(S_t) = \\mathbb{E} [x^Tx]$, prove that (9.19) together with (9.7) and linear function approximation results in the error being reduced to zero in one update."
   ]
  },
  {
   "cell_type": "markdown",
   "metadata": {},
   "source": [
    "---\n",
    "#### Resposta 1:\n",
    "\n",
    "Note primeiro que, por 9.19,\n",
    "\n",
    "$\\alpha = \\frac{1}{x(S_t)^Tx(S_t)}$ (1)\n",
    "\n",
    "E que 9.7 com a aproximação linear é a equação não-nomeada na página 227:\n",
    "\n",
    "$w_{t+1} = w_t + \\alpha [U_t - \\hat{v}(S_t, w_t)] x(S_t)$ (2)\n",
    "\n",
    "\n",
    "Então, transponha ambos os memmbros de (2) e multiplique-os por $x(S_t)$, a fim de obter a função de valor, pois sabemos que $\\hat{v}(S_t, w_t) = w_t^Tx(S_t)$ <br> Temos:\n",
    "\n",
    "$\\hat{v}(S_{t+1}, w_{t+1}) = \\hat{v}(S_t, w_t) + \\alpha [U_t - \\hat{v}(S_t, w_t)] x(S_t)^Tx(S_t)$ (3)\n",
    "\n",
    "Substituindo (1) em (3) e cancelando alpha com $x(S_t)^Tx(S_t)$, vem:\n",
    "\n",
    "$\\hat{v}(S_{t+1}, w_{t+1}) = \\hat{v}(S_t, w_t) + U_t - \\hat{v}(S_t, w_t)$\n",
    "\n",
    "$\\hat{v}(S_{t+1}, w_{t+1}) = U_t$\n",
    "\n",
    "O que torna a função de valor igual à estimativa de valor do estado e, portanto, torna o erro nulo (para aquele estado) em apenas uma atualização.\n"
   ]
  }
 ],
 "metadata": {
  "kernelspec": {
   "display_name": "Python 3 (Spyder)",
   "language": "python3",
   "name": "python3"
  },
  "language_info": {
   "codemirror_mode": {
    "name": "ipython",
    "version": 3
   },
   "file_extension": ".py",
   "mimetype": "text/x-python",
   "name": "python",
   "nbconvert_exporter": "python",
   "pygments_lexer": "ipython3",
   "version": "3.8.5"
  }
 },
 "nbformat": 4,
 "nbformat_minor": 4
}
