{
 "cells": [
  {
   "cell_type": "markdown",
   "metadata": {},
   "source": [
    "#### *Exercise 11.3*\n",
    "\n",
    "#### (programming) Apply one-step semi-gradient Q-learning to Baird’s counterexample and show empirically that its weights diverge. "
   ]
  },
  {
   "cell_type": "markdown",
   "metadata": {},
   "source": [
    "---\n",
    "#### Resposta 1"
   ]
  },
  {
   "cell_type": "code",
   "execution_count": 1,
   "metadata": {},
   "outputs": [],
   "source": [
    "import numpy as np\n",
    "\n",
    "class QAsg:\n",
    "    def __init__(self, state_values, b, alpha=0.1, gamma=0.99):\n",
    "        self.state_values = state_values\n",
    "        self.W = np.random.random((9,1))\n",
    "        self.alpha = alpha\n",
    "        self.gamma = gamma\n",
    "        self.b = b\n",
    "        self.SA_dict = {}\n",
    "        self.diverged_list = []\n",
    "\n",
    "    def SA(self, state, action):\n",
    "        global SA\n",
    "        if (state,action) in self.SA_dict:\n",
    "            return self.SA_dict[(state,action)]\n",
    "        else:\n",
    "            feature = np.array(self.state_values[state] + [action])\n",
    "            feature = np.reshape(feature, (-1,1))\n",
    "            self.SA_dict[(state,action)] = feature\n",
    "            return feature\n",
    "\n",
    "    def Q(self, state, action):\n",
    "        return self.W.T@self.SA(state, action)\n",
    "\n",
    "\n",
    "    def update(self,state, next_state, action):\n",
    "        delta = self.gamma*max(self.Q(next_state, 0),self.Q(next_state,1)) - self.Q(state,action)\n",
    "        self.W = self.W + self.alpha*delta*self.SA(state, action)\n",
    "\n",
    "    def diverge(self,n_eps):\n",
    "        for episode in range(1,n_eps+1):\n",
    "            self.W = np.random.random((9,1))\n",
    "            _,state = self.b()\n",
    "            for t in range(1,10000):\n",
    "                action, next_state = self.b()\n",
    "                self.update(state, next_state, action)\n",
    "                state = next_state\n",
    "                if self.W.max() >= 1e10:\n",
    "                    self.diverged_list.append((episode, t))\n",
    "                    break"
   ]
  },
  {
   "cell_type": "code",
   "execution_count": 7,
   "metadata": {},
   "outputs": [
    {
     "name": "stdout",
     "output_type": "stream",
     "text": "No Episodio 1 divergiu na iteração 1817\nNo Episodio 2 divergiu na iteração 2012\nNo Episodio 3 divergiu na iteração 1779\nNo Episodio 4 divergiu na iteração 1633\nNo Episodio 5 divergiu na iteração 1695\nNo Episodio 6 divergiu na iteração 1556\nNo Episodio 7 divergiu na iteração 1895\nNo Episodio 8 divergiu na iteração 1772\nNo Episodio 9 divergiu na iteração 1826\nNo Episodio 10 divergiu na iteração 1697\nNo Episodio 11 divergiu na iteração 1761\nNo Episodio 12 divergiu na iteração 1712\nNo Episodio 13 divergiu na iteração 1749\nNo Episodio 14 divergiu na iteração 1560\nNo Episodio 15 divergiu na iteração 1543\nNo Episodio 16 divergiu na iteração 1743\nNo Episodio 17 divergiu na iteração 1737\nNo Episodio 18 divergiu na iteração 1670\nNo Episodio 19 divergiu na iteração 1749\nNo Episodio 20 divergiu na iteração 1724\nNo Episodio 21 divergiu na iteração 1710\nNo Episodio 22 divergiu na iteração 1769\nNo Episodio 23 divergiu na iteração 1774\nNo Episodio 24 divergiu na iteração 1796\nNo Episodio 26 divergiu na iteração 1760\nNo Episodio 27 divergiu na iteração 1743\nNo Episodio 28 divergiu na iteração 1706\nNo Episodio 29 divergiu na iteração 1705\nNo Episodio 31 divergiu na iteração 1787\nNo Episodio 32 divergiu na iteração 1830\nNo Episodio 33 divergiu na iteração 1724\nNo Episodio 34 divergiu na iteração 1664\nNo Episodio 35 divergiu na iteração 1641\nNo Episodio 36 divergiu na iteração 1635\nNo Episodio 37 divergiu na iteração 1888\nNo Episodio 38 divergiu na iteração 2026\nNo Episodio 39 divergiu na iteração 1726\nNo Episodio 40 divergiu na iteração 1800\nNo Episodio 41 divergiu na iteração 1824\nNo Episodio 42 divergiu na iteração 1624\nNo Episodio 43 divergiu na iteração 1755\nNo Episodio 44 divergiu na iteração 1685\nNo Episodio 46 divergiu na iteração 1587\nNo Episodio 47 divergiu na iteração 1773\nNo Episodio 48 divergiu na iteração 1835\nNo Episodio 49 divergiu na iteração 1779\nNo Episodio 50 divergiu na iteração 1607\n"
    }
   ],
   "source": [
    "def b():\n",
    "        dice = np.random.random()\n",
    "        if dice > 1/7:\n",
    "            return 0, np.random.randint(low=0, high=6)\n",
    "        else:\n",
    "            return 1, 6\n",
    "dv_dw = [[2, 0, 0, 0, 0, 0, 0, 1],\n",
    "        [0, 2, 0, 0, 0, 0, 0, 1],\n",
    "        [0, 0, 2, 0, 0, 0, 0, 1],\n",
    "        [0, 0, 0, 2, 0, 0, 0, 1],\n",
    "        [0, 0, 0, 0, 2, 0, 0, 1],\n",
    "        [0, 0, 0, 0, 0, 2, 0, 1],\n",
    "        [0, 0, 0, 0, 0, 0, 1, 2]]\n",
    "qadiv = QAsg(dv_dw, b)\n",
    "qadiv.diverge(50)\n",
    "for ep, it in qadiv.diverged_list:\n",
    "    print(f'No Episodio {ep} divergiu na iteração {it}')"
   ]
  }
 ],
 "metadata": {
  "kernelspec": {
   "display_name": "Python 3",
   "language": "python",
   "name": "python3"
  },
  "language_info": {
   "codemirror_mode": {
    "name": "ipython",
    "version": 3
   },
   "file_extension": ".py",
   "mimetype": "text/x-python",
   "name": "python",
   "nbconvert_exporter": "python",
   "pygments_lexer": "ipython3",
   "version": "3.9.4-final"
  }
 },
 "nbformat": 4,
 "nbformat_minor": 4
}