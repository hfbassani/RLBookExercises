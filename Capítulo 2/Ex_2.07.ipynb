{
 "metadata": {
  "language_info": {
   "codemirror_mode": {
    "name": "ipython",
    "version": 3
   },
   "file_extension": ".py",
   "mimetype": "text/x-python",
   "name": "python",
   "nbconvert_exporter": "python",
   "pygments_lexer": "ipython3",
   "version": "3.8.5"
  },
  "orig_nbformat": 4,
  "kernelspec": {
   "name": "python3",
   "display_name": "Python 3.8.5 64-bit"
  },
  "interpreter": {
   "hash": "31f2aee4e71d21fbe5cf8b01ff0e069b9275f58929596ceb00d14d90e3e16cd6"
  }
 },
 "nbformat": 4,
 "nbformat_minor": 2,
 "cells": [
  {
   "source": [
    "## 2.07"
   ],
   "cell_type": "markdown",
   "metadata": {}
  },
  {
   "source": [
    "Podemos seguir a mesma derivação em (2.6), primeiramente alterando apenas o valor do parametro $\\alpha{}$ para $\\beta{}$:\n",
    "\n",
    "$$Q_{n+1} = Q_n + \\beta_{n}[R_n - Q_n] $$\n",
    "$$Q_{n+1} =\\beta_n{}R_n + (1 - \\beta_n{})Q_n $$\n",
    "$$ ... $$\n",
    "$$Q_{n+1} =\\beta_n{}R_n + \\beta_{n-1}(1 - \\beta_{n})R_{n-1} + \\beta_{n-2}(1 - \\beta_{n})(1 - \\beta_{n - 1})R_{n-2} + ... + [\\prod_{i=1}^{n}(1 - \\beta_{i})]Q_{1}$$\n",
    "$$Q_{n+1} = [\\prod_{i=1}^{n}(1 - \\beta_{i})]Q_{1} + \\sum^{n}_{i}\\beta_{i}[\\prod^{n}_{k=i+1}(1 - \\beta_{k})]R_{i}$$\n",
    "\n",
    "Como na equação 2.6, o bias estava presente na utilização do termo Q1(valor inicial/inicialização), aqui podemos derivar que esse valor vai ser zero, pois $(1 - \\beta_{1})$ é igual a zero, logo o valor de $Q_1$ não é levado em conta:\n",
    "\n",
    "$$ [\\prod_{i=1}^{n}(1 - \\beta_{i})]Q_{1} = 0$$\n",
    "\n",
    "$(1 - \\beta_{1})$ tem valor igual zero pois: $\\beta_{n} = \\frac{\\alpha{}}{o_n}$, $o_n = o_{n-1} + \\alpha{}(1 - o_{n-1})$ e $o_0 = 0$$\n",
    "\n",
    "E $\\beta_{1} = \\alpha{}/o_1$ que é o mesmo que $\\beta{1} = \\frac{\\alpha{}}{\\alpha{}}$, logo o produto mostrado assim vai ser zerado, pois $(1 - \\beta_{1}) == 0$\n",
    "\n",
    "**Como o valor $Q_1$ é retirado para todo $Q_n$ temos que essa constante é não enviesada**\n"
   ],
   "cell_type": "markdown",
   "metadata": {}
  },
  {
   "cell_type": "code",
   "execution_count": null,
   "metadata": {},
   "outputs": [],
   "source": []
  }
 ]
}