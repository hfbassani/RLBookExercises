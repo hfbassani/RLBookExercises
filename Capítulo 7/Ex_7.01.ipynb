{
 "cells": [
  {
   "cell_type": "markdown",
   "metadata": {},
   "source": [
    "#### *Exercise 7.11*\n",
    "\n",
    "#### In Chapter 6 we noted that the Monte Carlo error can be written as the sum of TD errors (6.6) if the value estimates don’t change from step to step. Show that the n-step error used in (7.2) can also be written as a sum TD errors (again if the value estimates don’t change) generalizing the earlier result."
   ]
  },
  {
   "cell_type": "markdown",
   "metadata": {},
   "source": [
    "---\n",
    "#### Resposta 1:\n",
    "Podemos partir da definição 7.2 do livro:\n",
    "\n",
    "$V_{t+n}(S_t) = V_{tn+n-1}(S_t) + \\alpha[G_{t:t+n} - V_{t+n-1}(S_t)]$\n",
    "\n",
    "E notar que o erro de n-step mencionado na pergunta equivale à expressão\n",
    "\n",
    "$G_{t:t+n} - V_{t+n-1}(S_t)$ (1)\n",
    "\n",
    "Mas $G_{t:t+n}$ é: \n",
    "\n",
    "$R_{t+1} + \\gamma R_{t+2} + ... + \\gamma^{n-1} R_{t+n} + \\gamma^n V_{t+n-1}(S_t) $\n",
    "\n",
    "Por outro lado, o somatório descontado dos erros TD (isto é, o somatório da progressão geométrica de termo inicial $\\delta_{t}$, razão $\\gamma$ e n termos) é equivalente a:\n",
    "\n",
    "$R_{t+1} + ... + \\gamma^{n-1} R_{t+n} + \\gamma^{n-1} (\\gamma V_t(S_t)) - V_t(S_t) $ (2)\n",
    "<br>pela simplificação da soma telescópica\n",
    "\n",
    "Comparando as expressões, temos que a seguinte expressão deve ser verdadeira para que (1) e (2) sejam equivalentes:\n",
    "\n",
    "$\\gamma^n V_t(S_t)) - V_t(S_t) = \\gamma^n V_{t+n-1}(S_t) - V_{t+n-1}(S_t) $\n",
    "\n",
    "O que é válido sob a suposição de valores constantes\n",
    "\n"
   ]
  }
 ],
 "metadata": {
  "kernelspec": {
   "display_name": "Python 3 (Spyder)",
   "language": "python3",
   "name": "python3"
  },
  "language_info": {
   "codemirror_mode": {
    "name": "ipython",
    "version": 3
   },
   "file_extension": ".py",
   "mimetype": "text/x-python",
   "name": "python",
   "nbconvert_exporter": "python",
   "pygments_lexer": "ipython3",
   "version": "3.8.5"
  }
 },
 "nbformat": 4,
 "nbformat_minor": 4
}
