{
 "cells": [
  {
   "cell_type": "markdown",
   "metadata": {},
   "source": [
    "Exercise 9.3 What $n$ and $c_{i,j}$ produce the feature vectors $x(s) =(1, s_1 , s_2 , s_1 s_2 , s^2_1 , s^2_2, s_1 s^2_2 , s^2_1 s_2 , s^2_1 s^2_2 )^T$ ?\n"
   ]
  },
  {
   "cell_type": "markdown",
   "metadata": {},
   "source": [
    "Considerando  $x_i(s) = \\prod_{j=1}^k s_j^{c_{ij}}$, teremos $(n+1)^k$ features, ou seja, temos $(n+1)^k = 9$, com $n=2$ e $k=2$."
   ]
  },
  {
   "cell_type": "markdown",
   "metadata": {},
   "source": [
    "Então, temos:\n",
    "\n",
    "$c_{ij} = \\begin{bmatrix}\n",
    "    0       & 1 & 0 & 1 & 2 & 0 & 1 & 2 & 2 \\\\\n",
    "    0      & 0 & 1 & 1 & 0 & 2 & 2 & 1 & 2\\\\\n",
    "\\end{bmatrix}$"
   ]
  }
 ],
 "metadata": {
  "kernelspec": {
   "display_name": "Python 3",
   "language": "python",
   "name": "python3"
  },
  "language_info": {
   "codemirror_mode": {
    "name": "ipython",
    "version": 3
   },
   "file_extension": ".py",
   "mimetype": "text/x-python",
   "name": "python",
   "nbconvert_exporter": "python",
   "pygments_lexer": "ipython3",
   "version": "3.8.3"
  }
 },
 "nbformat": 4,
 "nbformat_minor": 4
}
